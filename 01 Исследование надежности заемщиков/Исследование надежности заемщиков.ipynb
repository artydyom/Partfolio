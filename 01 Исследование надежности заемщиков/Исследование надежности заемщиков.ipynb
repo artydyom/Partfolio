{
 "cells": [
  {
   "cell_type": "markdown",
   "id": "d307da8c",
   "metadata": {},
   "source": [
    "## Название проекта - Исследование надежности заемщиков"
   ]
  },
  {
   "cell_type": "markdown",
   "id": "22bd43f1",
   "metadata": {},
   "source": [
    "В рамках этого проекта мы должны проанализировать данные, предоставленные кредитным отделом банка. Наша задача — выяснить, влияют ли такие факторы, как количество детей у клиента и его семейное положение, на своевременность погашения кредита.  \n",
    "  \n",
    "**Цель проекта** — определить связь количества детей и семейное положение клиента со своевременностью возврата кредита.  \n",
    " \n",
    "**Задачи:**  \n",
    "1. Провести предварительную обработку данных.  \n",
    "\tа) Удаление пропусков.  \n",
    "\tб) Поиск и устранение аномальных значений.  \n",
    "\tв) Изменение при необходимости типов данных.  \n",
    "\tг) Дополнение данных.\n",
    "2. Провести исследовательский анализ данных и выяснить взаимосвязь возрата кредита в срок со следующими признаками:  \n",
    "\tа) с количеством детей;  \n",
    "\tб) с семейным положением;  \n",
    "\tв) с уровнем дохода;  \n",
    "\tг) с целью кредита.  \n",
    "3. Сформулировать общий итог на основании выявленных закономерностей.  \n",
    " \n",
    "**Описание данных.**  \n",
    "Исходные данные находятся в датасете 'data.csv'.\n",
    "* children — количество детей в семье;  \n",
    "* days_employed — общий трудовой стаж в днях;  \n",
    "* dob_years — возраст клиента в годах;  \n",
    "* education — уровень образования клиента;  \n",
    "* education_id — идентификатор уровня образования;  \n",
    "* family_status — семейное положение;  \n",
    "* family_status_id — идентификатор семейного положения;  \n",
    "* gender — пол клиента;  \n",
    "* income_type — тип занятости;  \n",
    "* debt — имел ли задолженность по возврату кредитов;  \n",
    "* total_income — ежемесячный доход;  \n",
    "* purpose — цель получения кредита."
   ]
  },
  {
   "cell_type": "markdown",
   "id": "df0f5eba",
   "metadata": {},
   "source": [
    "## Загрузка данных"
   ]
  },
  {
   "cell_type": "markdown",
   "id": "32d818ce",
   "metadata": {},
   "source": [
    "Для начала работы с данными загрузим необходимые для этого библиотеки."
   ]
  },
  {
   "cell_type": "code",
   "execution_count": 2,
   "id": "1d6cf93b",
   "metadata": {},
   "outputs": [],
   "source": [
    "import pandas as pd"
   ]
  },
  {
   "cell_type": "markdown",
   "id": "ae052047",
   "metadata": {},
   "source": [
    "Считаем данные из csv-файла в датафрейм и сохраним в переменную data. Путь к файлу: \"/datasets/data.csv\"."
   ]
  },
  {
   "cell_type": "code",
   "execution_count": 3,
   "id": "a611f8c7",
   "metadata": {},
   "outputs": [],
   "source": [
    "try:\n",
    "    data = pd.read_csv('/datasets/data.csv')\n",
    "except:\n",
    "    data = pd.read_csv('https://code.s3.yandex.net/datasets/data.csv')"
   ]
  },
  {
   "cell_type": "markdown",
   "id": "5d477964",
   "metadata": {},
   "source": [
    "Чтобы убедиться в корректности сохранения данных, выведем первые 20 строчек датасета."
   ]
  },
  {
   "cell_type": "code",
   "execution_count": 4,
   "id": "b956382d",
   "metadata": {},
   "outputs": [
    {
     "data": {
      "text/html": [
       "<div>\n",
       "<style scoped>\n",
       "    .dataframe tbody tr th:only-of-type {\n",
       "        vertical-align: middle;\n",
       "    }\n",
       "\n",
       "    .dataframe tbody tr th {\n",
       "        vertical-align: top;\n",
       "    }\n",
       "\n",
       "    .dataframe thead th {\n",
       "        text-align: right;\n",
       "    }\n",
       "</style>\n",
       "<table border=\"1\" class=\"dataframe\">\n",
       "  <thead>\n",
       "    <tr style=\"text-align: right;\">\n",
       "      <th></th>\n",
       "      <th>children</th>\n",
       "      <th>days_employed</th>\n",
       "      <th>dob_years</th>\n",
       "      <th>education</th>\n",
       "      <th>education_id</th>\n",
       "      <th>family_status</th>\n",
       "      <th>family_status_id</th>\n",
       "      <th>gender</th>\n",
       "      <th>income_type</th>\n",
       "      <th>debt</th>\n",
       "      <th>total_income</th>\n",
       "      <th>purpose</th>\n",
       "    </tr>\n",
       "  </thead>\n",
       "  <tbody>\n",
       "    <tr>\n",
       "      <th>0</th>\n",
       "      <td>1</td>\n",
       "      <td>-8437.673028</td>\n",
       "      <td>42</td>\n",
       "      <td>высшее</td>\n",
       "      <td>0</td>\n",
       "      <td>женат / замужем</td>\n",
       "      <td>0</td>\n",
       "      <td>F</td>\n",
       "      <td>сотрудник</td>\n",
       "      <td>0</td>\n",
       "      <td>253875.639453</td>\n",
       "      <td>покупка жилья</td>\n",
       "    </tr>\n",
       "    <tr>\n",
       "      <th>1</th>\n",
       "      <td>1</td>\n",
       "      <td>-4024.803754</td>\n",
       "      <td>36</td>\n",
       "      <td>среднее</td>\n",
       "      <td>1</td>\n",
       "      <td>женат / замужем</td>\n",
       "      <td>0</td>\n",
       "      <td>F</td>\n",
       "      <td>сотрудник</td>\n",
       "      <td>0</td>\n",
       "      <td>112080.014102</td>\n",
       "      <td>приобретение автомобиля</td>\n",
       "    </tr>\n",
       "    <tr>\n",
       "      <th>2</th>\n",
       "      <td>0</td>\n",
       "      <td>-5623.422610</td>\n",
       "      <td>33</td>\n",
       "      <td>Среднее</td>\n",
       "      <td>1</td>\n",
       "      <td>женат / замужем</td>\n",
       "      <td>0</td>\n",
       "      <td>M</td>\n",
       "      <td>сотрудник</td>\n",
       "      <td>0</td>\n",
       "      <td>145885.952297</td>\n",
       "      <td>покупка жилья</td>\n",
       "    </tr>\n",
       "    <tr>\n",
       "      <th>3</th>\n",
       "      <td>3</td>\n",
       "      <td>-4124.747207</td>\n",
       "      <td>32</td>\n",
       "      <td>среднее</td>\n",
       "      <td>1</td>\n",
       "      <td>женат / замужем</td>\n",
       "      <td>0</td>\n",
       "      <td>M</td>\n",
       "      <td>сотрудник</td>\n",
       "      <td>0</td>\n",
       "      <td>267628.550329</td>\n",
       "      <td>дополнительное образование</td>\n",
       "    </tr>\n",
       "    <tr>\n",
       "      <th>4</th>\n",
       "      <td>0</td>\n",
       "      <td>340266.072047</td>\n",
       "      <td>53</td>\n",
       "      <td>среднее</td>\n",
       "      <td>1</td>\n",
       "      <td>гражданский брак</td>\n",
       "      <td>1</td>\n",
       "      <td>F</td>\n",
       "      <td>пенсионер</td>\n",
       "      <td>0</td>\n",
       "      <td>158616.077870</td>\n",
       "      <td>сыграть свадьбу</td>\n",
       "    </tr>\n",
       "    <tr>\n",
       "      <th>5</th>\n",
       "      <td>0</td>\n",
       "      <td>-926.185831</td>\n",
       "      <td>27</td>\n",
       "      <td>высшее</td>\n",
       "      <td>0</td>\n",
       "      <td>гражданский брак</td>\n",
       "      <td>1</td>\n",
       "      <td>M</td>\n",
       "      <td>компаньон</td>\n",
       "      <td>0</td>\n",
       "      <td>255763.565419</td>\n",
       "      <td>покупка жилья</td>\n",
       "    </tr>\n",
       "    <tr>\n",
       "      <th>6</th>\n",
       "      <td>0</td>\n",
       "      <td>-2879.202052</td>\n",
       "      <td>43</td>\n",
       "      <td>высшее</td>\n",
       "      <td>0</td>\n",
       "      <td>женат / замужем</td>\n",
       "      <td>0</td>\n",
       "      <td>F</td>\n",
       "      <td>компаньон</td>\n",
       "      <td>0</td>\n",
       "      <td>240525.971920</td>\n",
       "      <td>операции с жильем</td>\n",
       "    </tr>\n",
       "    <tr>\n",
       "      <th>7</th>\n",
       "      <td>0</td>\n",
       "      <td>-152.779569</td>\n",
       "      <td>50</td>\n",
       "      <td>СРЕДНЕЕ</td>\n",
       "      <td>1</td>\n",
       "      <td>женат / замужем</td>\n",
       "      <td>0</td>\n",
       "      <td>M</td>\n",
       "      <td>сотрудник</td>\n",
       "      <td>0</td>\n",
       "      <td>135823.934197</td>\n",
       "      <td>образование</td>\n",
       "    </tr>\n",
       "    <tr>\n",
       "      <th>8</th>\n",
       "      <td>2</td>\n",
       "      <td>-6929.865299</td>\n",
       "      <td>35</td>\n",
       "      <td>ВЫСШЕЕ</td>\n",
       "      <td>0</td>\n",
       "      <td>гражданский брак</td>\n",
       "      <td>1</td>\n",
       "      <td>F</td>\n",
       "      <td>сотрудник</td>\n",
       "      <td>0</td>\n",
       "      <td>95856.832424</td>\n",
       "      <td>на проведение свадьбы</td>\n",
       "    </tr>\n",
       "    <tr>\n",
       "      <th>9</th>\n",
       "      <td>0</td>\n",
       "      <td>-2188.756445</td>\n",
       "      <td>41</td>\n",
       "      <td>среднее</td>\n",
       "      <td>1</td>\n",
       "      <td>женат / замужем</td>\n",
       "      <td>0</td>\n",
       "      <td>M</td>\n",
       "      <td>сотрудник</td>\n",
       "      <td>0</td>\n",
       "      <td>144425.938277</td>\n",
       "      <td>покупка жилья для семьи</td>\n",
       "    </tr>\n",
       "    <tr>\n",
       "      <th>10</th>\n",
       "      <td>2</td>\n",
       "      <td>-4171.483647</td>\n",
       "      <td>36</td>\n",
       "      <td>высшее</td>\n",
       "      <td>0</td>\n",
       "      <td>женат / замужем</td>\n",
       "      <td>0</td>\n",
       "      <td>M</td>\n",
       "      <td>компаньон</td>\n",
       "      <td>0</td>\n",
       "      <td>113943.491460</td>\n",
       "      <td>покупка недвижимости</td>\n",
       "    </tr>\n",
       "    <tr>\n",
       "      <th>11</th>\n",
       "      <td>0</td>\n",
       "      <td>-792.701887</td>\n",
       "      <td>40</td>\n",
       "      <td>среднее</td>\n",
       "      <td>1</td>\n",
       "      <td>женат / замужем</td>\n",
       "      <td>0</td>\n",
       "      <td>F</td>\n",
       "      <td>сотрудник</td>\n",
       "      <td>0</td>\n",
       "      <td>77069.234271</td>\n",
       "      <td>покупка коммерческой недвижимости</td>\n",
       "    </tr>\n",
       "    <tr>\n",
       "      <th>12</th>\n",
       "      <td>0</td>\n",
       "      <td>NaN</td>\n",
       "      <td>65</td>\n",
       "      <td>среднее</td>\n",
       "      <td>1</td>\n",
       "      <td>гражданский брак</td>\n",
       "      <td>1</td>\n",
       "      <td>M</td>\n",
       "      <td>пенсионер</td>\n",
       "      <td>0</td>\n",
       "      <td>NaN</td>\n",
       "      <td>сыграть свадьбу</td>\n",
       "    </tr>\n",
       "    <tr>\n",
       "      <th>13</th>\n",
       "      <td>0</td>\n",
       "      <td>-1846.641941</td>\n",
       "      <td>54</td>\n",
       "      <td>неоконченное высшее</td>\n",
       "      <td>2</td>\n",
       "      <td>женат / замужем</td>\n",
       "      <td>0</td>\n",
       "      <td>F</td>\n",
       "      <td>сотрудник</td>\n",
       "      <td>0</td>\n",
       "      <td>130458.228857</td>\n",
       "      <td>приобретение автомобиля</td>\n",
       "    </tr>\n",
       "    <tr>\n",
       "      <th>14</th>\n",
       "      <td>0</td>\n",
       "      <td>-1844.956182</td>\n",
       "      <td>56</td>\n",
       "      <td>высшее</td>\n",
       "      <td>0</td>\n",
       "      <td>гражданский брак</td>\n",
       "      <td>1</td>\n",
       "      <td>F</td>\n",
       "      <td>компаньон</td>\n",
       "      <td>1</td>\n",
       "      <td>165127.911772</td>\n",
       "      <td>покупка жилой недвижимости</td>\n",
       "    </tr>\n",
       "    <tr>\n",
       "      <th>15</th>\n",
       "      <td>1</td>\n",
       "      <td>-972.364419</td>\n",
       "      <td>26</td>\n",
       "      <td>среднее</td>\n",
       "      <td>1</td>\n",
       "      <td>женат / замужем</td>\n",
       "      <td>0</td>\n",
       "      <td>F</td>\n",
       "      <td>сотрудник</td>\n",
       "      <td>0</td>\n",
       "      <td>116820.904450</td>\n",
       "      <td>строительство собственной недвижимости</td>\n",
       "    </tr>\n",
       "    <tr>\n",
       "      <th>16</th>\n",
       "      <td>0</td>\n",
       "      <td>-1719.934226</td>\n",
       "      <td>35</td>\n",
       "      <td>среднее</td>\n",
       "      <td>1</td>\n",
       "      <td>женат / замужем</td>\n",
       "      <td>0</td>\n",
       "      <td>F</td>\n",
       "      <td>сотрудник</td>\n",
       "      <td>0</td>\n",
       "      <td>289202.704229</td>\n",
       "      <td>недвижимость</td>\n",
       "    </tr>\n",
       "    <tr>\n",
       "      <th>17</th>\n",
       "      <td>0</td>\n",
       "      <td>-2369.999720</td>\n",
       "      <td>33</td>\n",
       "      <td>высшее</td>\n",
       "      <td>0</td>\n",
       "      <td>гражданский брак</td>\n",
       "      <td>1</td>\n",
       "      <td>M</td>\n",
       "      <td>сотрудник</td>\n",
       "      <td>0</td>\n",
       "      <td>90410.586745</td>\n",
       "      <td>строительство недвижимости</td>\n",
       "    </tr>\n",
       "    <tr>\n",
       "      <th>18</th>\n",
       "      <td>0</td>\n",
       "      <td>400281.136913</td>\n",
       "      <td>53</td>\n",
       "      <td>среднее</td>\n",
       "      <td>1</td>\n",
       "      <td>вдовец / вдова</td>\n",
       "      <td>2</td>\n",
       "      <td>F</td>\n",
       "      <td>пенсионер</td>\n",
       "      <td>0</td>\n",
       "      <td>56823.777243</td>\n",
       "      <td>на покупку подержанного автомобиля</td>\n",
       "    </tr>\n",
       "    <tr>\n",
       "      <th>19</th>\n",
       "      <td>0</td>\n",
       "      <td>-10038.818549</td>\n",
       "      <td>48</td>\n",
       "      <td>СРЕДНЕЕ</td>\n",
       "      <td>1</td>\n",
       "      <td>в разводе</td>\n",
       "      <td>3</td>\n",
       "      <td>F</td>\n",
       "      <td>сотрудник</td>\n",
       "      <td>0</td>\n",
       "      <td>242831.107982</td>\n",
       "      <td>на покупку своего автомобиля</td>\n",
       "    </tr>\n",
       "  </tbody>\n",
       "</table>\n",
       "</div>"
      ],
      "text/plain": [
       "    children  days_employed  dob_years            education  education_id  \\\n",
       "0          1   -8437.673028         42               высшее             0   \n",
       "1          1   -4024.803754         36              среднее             1   \n",
       "2          0   -5623.422610         33              Среднее             1   \n",
       "3          3   -4124.747207         32              среднее             1   \n",
       "4          0  340266.072047         53              среднее             1   \n",
       "5          0    -926.185831         27               высшее             0   \n",
       "6          0   -2879.202052         43               высшее             0   \n",
       "7          0    -152.779569         50              СРЕДНЕЕ             1   \n",
       "8          2   -6929.865299         35               ВЫСШЕЕ             0   \n",
       "9          0   -2188.756445         41              среднее             1   \n",
       "10         2   -4171.483647         36               высшее             0   \n",
       "11         0    -792.701887         40              среднее             1   \n",
       "12         0            NaN         65              среднее             1   \n",
       "13         0   -1846.641941         54  неоконченное высшее             2   \n",
       "14         0   -1844.956182         56               высшее             0   \n",
       "15         1    -972.364419         26              среднее             1   \n",
       "16         0   -1719.934226         35              среднее             1   \n",
       "17         0   -2369.999720         33               высшее             0   \n",
       "18         0  400281.136913         53              среднее             1   \n",
       "19         0  -10038.818549         48              СРЕДНЕЕ             1   \n",
       "\n",
       "       family_status  family_status_id gender income_type  debt  \\\n",
       "0    женат / замужем                 0      F   сотрудник     0   \n",
       "1    женат / замужем                 0      F   сотрудник     0   \n",
       "2    женат / замужем                 0      M   сотрудник     0   \n",
       "3    женат / замужем                 0      M   сотрудник     0   \n",
       "4   гражданский брак                 1      F   пенсионер     0   \n",
       "5   гражданский брак                 1      M   компаньон     0   \n",
       "6    женат / замужем                 0      F   компаньон     0   \n",
       "7    женат / замужем                 0      M   сотрудник     0   \n",
       "8   гражданский брак                 1      F   сотрудник     0   \n",
       "9    женат / замужем                 0      M   сотрудник     0   \n",
       "10   женат / замужем                 0      M   компаньон     0   \n",
       "11   женат / замужем                 0      F   сотрудник     0   \n",
       "12  гражданский брак                 1      M   пенсионер     0   \n",
       "13   женат / замужем                 0      F   сотрудник     0   \n",
       "14  гражданский брак                 1      F   компаньон     1   \n",
       "15   женат / замужем                 0      F   сотрудник     0   \n",
       "16   женат / замужем                 0      F   сотрудник     0   \n",
       "17  гражданский брак                 1      M   сотрудник     0   \n",
       "18    вдовец / вдова                 2      F   пенсионер     0   \n",
       "19         в разводе                 3      F   сотрудник     0   \n",
       "\n",
       "     total_income                                 purpose  \n",
       "0   253875.639453                           покупка жилья  \n",
       "1   112080.014102                 приобретение автомобиля  \n",
       "2   145885.952297                           покупка жилья  \n",
       "3   267628.550329              дополнительное образование  \n",
       "4   158616.077870                         сыграть свадьбу  \n",
       "5   255763.565419                           покупка жилья  \n",
       "6   240525.971920                       операции с жильем  \n",
       "7   135823.934197                             образование  \n",
       "8    95856.832424                   на проведение свадьбы  \n",
       "9   144425.938277                 покупка жилья для семьи  \n",
       "10  113943.491460                    покупка недвижимости  \n",
       "11   77069.234271       покупка коммерческой недвижимости  \n",
       "12            NaN                         сыграть свадьбу  \n",
       "13  130458.228857                 приобретение автомобиля  \n",
       "14  165127.911772              покупка жилой недвижимости  \n",
       "15  116820.904450  строительство собственной недвижимости  \n",
       "16  289202.704229                            недвижимость  \n",
       "17   90410.586745              строительство недвижимости  \n",
       "18   56823.777243      на покупку подержанного автомобиля  \n",
       "19  242831.107982            на покупку своего автомобиля  "
      ]
     },
     "execution_count": 4,
     "metadata": {},
     "output_type": "execute_result"
    }
   ],
   "source": [
    "data.head(20)"
   ]
  },
  {
   "cell_type": "markdown",
   "id": "27804ec9",
   "metadata": {},
   "source": [
    "А также выведем основную информацию о датафрейме с помощью метода info()."
   ]
  },
  {
   "cell_type": "code",
   "execution_count": 5,
   "id": "2b801ebe",
   "metadata": {},
   "outputs": [
    {
     "name": "stdout",
     "output_type": "stream",
     "text": [
      "<class 'pandas.core.frame.DataFrame'>\n",
      "RangeIndex: 21525 entries, 0 to 21524\n",
      "Data columns (total 12 columns):\n",
      " #   Column            Non-Null Count  Dtype  \n",
      "---  ------            --------------  -----  \n",
      " 0   children          21525 non-null  int64  \n",
      " 1   days_employed     19351 non-null  float64\n",
      " 2   dob_years         21525 non-null  int64  \n",
      " 3   education         21525 non-null  object \n",
      " 4   education_id      21525 non-null  int64  \n",
      " 5   family_status     21525 non-null  object \n",
      " 6   family_status_id  21525 non-null  int64  \n",
      " 7   gender            21525 non-null  object \n",
      " 8   income_type       21525 non-null  object \n",
      " 9   debt              21525 non-null  int64  \n",
      " 10  total_income      19351 non-null  float64\n",
      " 11  purpose           21525 non-null  object \n",
      "dtypes: float64(2), int64(5), object(5)\n",
      "memory usage: 2.0+ MB\n"
     ]
    }
   ],
   "source": [
    "data.info()"
   ]
  },
  {
   "cell_type": "markdown",
   "id": "8df745ad",
   "metadata": {},
   "source": [
    "Подведем предварительный итог по первому этапу работы. Все произведённые манипуляции были произведены верно, данные отображаются корректно.  \n",
    "Перейдём к предварительной обработке данных."
   ]
  },
  {
   "cell_type": "markdown",
   "id": "86f07605",
   "metadata": {},
   "source": [
    "## Предобработка данных"
   ]
  },
  {
   "cell_type": "markdown",
   "id": "4a91126c",
   "metadata": {},
   "source": [
    "Выведем количество пропущенных значений для каждого столбца. Лучше для этого использовать комбинацию двух методов."
   ]
  },
  {
   "cell_type": "code",
   "execution_count": 6,
   "id": "d27a5a16",
   "metadata": {},
   "outputs": [
    {
     "data": {
      "text/plain": [
       "children               0\n",
       "days_employed       2174\n",
       "dob_years              0\n",
       "education              0\n",
       "education_id           0\n",
       "family_status          0\n",
       "family_status_id       0\n",
       "gender                 0\n",
       "income_type            0\n",
       "debt                   0\n",
       "total_income        2174\n",
       "purpose                0\n",
       "dtype: int64"
      ]
     },
     "execution_count": 6,
     "metadata": {},
     "output_type": "execute_result"
    }
   ],
   "source": [
    "data.isna().sum()"
   ]
  },
  {
   "cell_type": "markdown",
   "id": "5e0a9858",
   "metadata": {},
   "source": [
    "В двух столбцах есть пропущенные значения. Один из них — `days_employed`. Пропуски в этом столбце мы обработаем на следующем этапе. Другой столбец с пропущенными значениями — `total_income` — хранит данные о доходах. На сумму дохода сильнее всего влияет тип занятости, поэтому заполнить пропуски в этом столбце нужно медианным значением по каждому типу из столбца `income_type`. Например, у человека с типом занятости `сотрудник` пропуск в столбце `total_income` должен быть заполнен медианным доходом среди всех записей с тем же типом."
   ]
  },
  {
   "cell_type": "code",
   "execution_count": 7,
   "id": "924e5010",
   "metadata": {},
   "outputs": [],
   "source": [
    "for t in data['income_type'].unique():\n",
    "    data.loc[(data['income_type'] == t) & (data['total_income'].isna()), 'total_income'] = \\\n",
    "    data.loc[(data['income_type'] == t), 'total_income'].median()"
   ]
  },
  {
   "cell_type": "markdown",
   "id": "fa664b7d",
   "metadata": {},
   "source": [
    "Повторно проверим пропуски в данных для проверки успешности изменений."
   ]
  },
  {
   "cell_type": "code",
   "execution_count": 8,
   "id": "664b18da",
   "metadata": {},
   "outputs": [
    {
     "data": {
      "text/plain": [
       "children               0\n",
       "days_employed       2174\n",
       "dob_years              0\n",
       "education              0\n",
       "education_id           0\n",
       "family_status          0\n",
       "family_status_id       0\n",
       "gender                 0\n",
       "income_type            0\n",
       "debt                   0\n",
       "total_income           0\n",
       "purpose                0\n",
       "dtype: int64"
      ]
     },
     "execution_count": 8,
     "metadata": {},
     "output_type": "execute_result"
    }
   ],
   "source": [
    "data.isna().sum()"
   ]
  },
  {
   "cell_type": "markdown",
   "id": "ad6555d8",
   "metadata": {},
   "source": [
    "Теперь перейдём к поиску аномальных значений в данных. В данных могут встречаться артефакты (аномалии) — значения, которые не отражают действительность и появились по какой-то ошибке. Таким артефактом будет отрицательное количество дней трудового стажа в столбце `days_employed`. Для реальных данных это нормально. Обработанем значения в этом столбце: замените все отрицательные значения положительными с помощью метода `abs()`."
   ]
  },
  {
   "cell_type": "code",
   "execution_count": 9,
   "id": "7e26f4ee",
   "metadata": {},
   "outputs": [],
   "source": [
    "data['days_employed'] = data['days_employed'].abs()"
   ]
  },
  {
   "cell_type": "markdown",
   "id": "12091192",
   "metadata": {},
   "source": [
    "Для каждого типа занятости выведем медианное значение трудового стажа `days_employed` в днях."
   ]
  },
  {
   "cell_type": "code",
   "execution_count": 10,
   "id": "937af34e",
   "metadata": {},
   "outputs": [
    {
     "data": {
      "text/plain": [
       "income_type\n",
       "безработный        366413.652744\n",
       "в декрете            3296.759962\n",
       "госслужащий          2689.368353\n",
       "компаньон            1547.382223\n",
       "пенсионер          365213.306266\n",
       "предприниматель       520.848083\n",
       "сотрудник            1574.202821\n",
       "студент               578.751554\n",
       "Name: days_employed, dtype: float64"
      ]
     },
     "execution_count": 10,
     "metadata": {},
     "output_type": "execute_result"
    }
   ],
   "source": [
    "data.groupby('income_type')['days_employed'].agg('median')"
   ]
  },
  {
   "cell_type": "markdown",
   "id": "cdf8c32a",
   "metadata": {},
   "source": [
    "У двух типов (безработные и пенсионеры) получатся аномально большие значения. Исправить такие значения сложно, поэтому оставьте их как есть.  \n",
    "Выведите перечень уникальных значений столбца `children`."
   ]
  },
  {
   "cell_type": "code",
   "execution_count": 11,
   "id": "4a9edcaa",
   "metadata": {},
   "outputs": [
    {
     "data": {
      "text/plain": [
       "array([ 1,  0,  3,  2, -1,  4, 20,  5], dtype=int64)"
      ]
     },
     "execution_count": 11,
     "metadata": {},
     "output_type": "execute_result"
    }
   ],
   "source": [
    "data['children'].unique()"
   ]
  },
  {
   "cell_type": "markdown",
   "id": "22b65214",
   "metadata": {},
   "source": [
    "В столбце `children` есть два аномальных значения. Удалим строки, в которых встречаются такие аномальные значения из датафрейма `data`."
   ]
  },
  {
   "cell_type": "code",
   "execution_count": 12,
   "id": "b39006db",
   "metadata": {},
   "outputs": [],
   "source": [
    "data = data[(data['children'] != -1) & (data['children'] != 20)]"
   ]
  },
  {
   "cell_type": "markdown",
   "id": "503b2e9b",
   "metadata": {},
   "source": [
    "Ещё раз выведите перечень уникальных значений столбца `children`, чтобы убедиться, что артефакты удалены."
   ]
  },
  {
   "cell_type": "code",
   "execution_count": 13,
   "id": "d89342e6",
   "metadata": {},
   "outputs": [
    {
     "data": {
      "text/plain": [
       "array([1, 0, 3, 2, 4, 5], dtype=int64)"
      ]
     },
     "execution_count": 13,
     "metadata": {},
     "output_type": "execute_result"
    }
   ],
   "source": [
    "data['children'].unique()"
   ]
  },
  {
   "cell_type": "markdown",
   "id": "8fb5e309",
   "metadata": {},
   "source": [
    "Продолжим работу с пропусками и заполним пропуски в столбце `days_employed` медианными значениями по каждого типа занятости `income_type`."
   ]
  },
  {
   "cell_type": "code",
   "execution_count": 14,
   "id": "bbb94e41",
   "metadata": {},
   "outputs": [],
   "source": [
    "for t in data['income_type'].unique():\n",
    "    data.loc[(data['income_type'] == t) & (data['days_employed'].isna()), 'days_employed'] = \\\n",
    "    data.loc[(data['income_type'] == t), 'days_employed'].median()"
   ]
  },
  {
   "cell_type": "markdown",
   "id": "e28df56c",
   "metadata": {},
   "source": [
    "Убедитмся, что все пропуски заполнены. Проверм себя и ещё раз выведите количество пропущенных значений для каждого столбца."
   ]
  },
  {
   "cell_type": "code",
   "execution_count": 15,
   "id": "f4aa0fa2",
   "metadata": {},
   "outputs": [
    {
     "data": {
      "text/plain": [
       "children            0\n",
       "days_employed       0\n",
       "dob_years           0\n",
       "education           0\n",
       "education_id        0\n",
       "family_status       0\n",
       "family_status_id    0\n",
       "gender              0\n",
       "income_type         0\n",
       "debt                0\n",
       "total_income        0\n",
       "purpose             0\n",
       "dtype: int64"
      ]
     },
     "execution_count": 15,
     "metadata": {},
     "output_type": "execute_result"
    }
   ],
   "source": [
    "data.isna().sum()"
   ]
  },
  {
   "cell_type": "markdown",
   "id": "7fe5ce27",
   "metadata": {},
   "source": [
    "Теперь заменим вещественный тип данных в столбце `total_income` на целочисленный с помощью метода `astype()`."
   ]
  },
  {
   "cell_type": "code",
   "execution_count": 16,
   "id": "1de04cc0",
   "metadata": {},
   "outputs": [],
   "source": [
    "data['total_income'] = data['total_income'].astype(int)"
   ]
  },
  {
   "cell_type": "markdown",
   "id": "70af55fe",
   "metadata": {},
   "source": [
    "Сейчас оработаем неявные дубликаты в столбце `education`. В этом столбце есть одни и те же значения, но записанные по-разному: с использованием заглавных и строчных букв. Приведём их к нижнему регистру."
   ]
  },
  {
   "cell_type": "code",
   "execution_count": 17,
   "id": "4294e2b3",
   "metadata": {},
   "outputs": [],
   "source": [
    "data['education'] = data['education'].str.lower()"
   ]
  },
  {
   "cell_type": "markdown",
   "id": "1d22bb2d",
   "metadata": {},
   "source": [
    "Выведем на экран количество строк-дубликатов в данных. И если такие строки присутствуют, удалим их."
   ]
  },
  {
   "cell_type": "code",
   "execution_count": 18,
   "id": "9e4b9c33",
   "metadata": {},
   "outputs": [
    {
     "data": {
      "text/plain": [
       "71"
      ]
     },
     "execution_count": 18,
     "metadata": {},
     "output_type": "execute_result"
    }
   ],
   "source": [
    "data.duplicated().sum()"
   ]
  },
  {
   "cell_type": "code",
   "execution_count": 19,
   "id": "e9200c87",
   "metadata": {},
   "outputs": [],
   "source": [
    "data = data.drop_duplicates()"
   ]
  },
  {
   "cell_type": "markdown",
   "id": "a070ed64",
   "metadata": {},
   "source": [
    "Дополним данные категориальными значниями. На основании диапазонов, указанных ниже, создадим в датафрейме `data` столбец `total_income_category` с категориями:  \n",
    "\n",
    "- 0–30000 — `'E'`;\n",
    "- 30001–50000 — `'D'`;\n",
    "- 50001–200000 — `'C'`;\n",
    "- 200001–1000000 — `'B'`;\n",
    "- 1000001 и выше — `'A'`.  \n",
    "\n",
    "\n",
    "Например, кредитополучателю с доходом 25000 нужно назначить категорию `'E'`, а клиенту, получающему 235000, — `'B'`. Будем использовать собственную функцию с именем `categorize_income()` и метод `apply()`."
   ]
  },
  {
   "cell_type": "code",
   "execution_count": 20,
   "id": "10258796",
   "metadata": {},
   "outputs": [],
   "source": [
    "def categorize_income(income):\n",
    "    try:\n",
    "        if 0 <= income <= 30000:\n",
    "            return 'E'\n",
    "        elif 30001 <= income <= 50000:\n",
    "            return 'D'\n",
    "        elif 50001 <= income <= 200000:\n",
    "            return 'C'\n",
    "        elif 200001 <= income <= 1000000:\n",
    "            return 'B'\n",
    "        elif income >= 1000001:\n",
    "            return 'A'\n",
    "    except:\n",
    "        pass"
   ]
  },
  {
   "cell_type": "code",
   "execution_count": 21,
   "id": "e657b15d",
   "metadata": {},
   "outputs": [],
   "source": [
    "# Теперь применим полученную функцию для создания нового столбца с категориями доходов клиентов.\n",
    "data['total_income_category'] = data['total_income'].apply(categorize_income)"
   ]
  },
  {
   "cell_type": "markdown",
   "id": "56b4b8d8",
   "metadata": {},
   "source": [
    "Выведем на экран перечень уникальных целей взятия кредита из столбца `purpose`."
   ]
  },
  {
   "cell_type": "code",
   "execution_count": 22,
   "id": "52a118c5",
   "metadata": {},
   "outputs": [
    {
     "data": {
      "text/plain": [
       "array(['покупка жилья', 'приобретение автомобиля',\n",
       "       'дополнительное образование', 'сыграть свадьбу',\n",
       "       'операции с жильем', 'образование', 'на проведение свадьбы',\n",
       "       'покупка жилья для семьи', 'покупка недвижимости',\n",
       "       'покупка коммерческой недвижимости', 'покупка жилой недвижимости',\n",
       "       'строительство собственной недвижимости', 'недвижимость',\n",
       "       'строительство недвижимости', 'на покупку подержанного автомобиля',\n",
       "       'на покупку своего автомобиля',\n",
       "       'операции с коммерческой недвижимостью',\n",
       "       'строительство жилой недвижимости', 'жилье',\n",
       "       'операции со своей недвижимостью', 'автомобили',\n",
       "       'заняться образованием', 'сделка с подержанным автомобилем',\n",
       "       'получение образования', 'автомобиль', 'свадьба',\n",
       "       'получение дополнительного образования', 'покупка своего жилья',\n",
       "       'операции с недвижимостью', 'получение высшего образования',\n",
       "       'свой автомобиль', 'сделка с автомобилем',\n",
       "       'профильное образование', 'высшее образование',\n",
       "       'покупка жилья для сдачи', 'на покупку автомобиля', 'ремонт жилью',\n",
       "       'заняться высшим образованием'], dtype=object)"
      ]
     },
     "execution_count": 22,
     "metadata": {},
     "output_type": "execute_result"
    }
   ],
   "source": [
    "data['purpose'].unique()"
   ]
  },
  {
   "cell_type": "markdown",
   "id": "2641a5d5",
   "metadata": {},
   "source": [
    "Создадим функцию, которая на основании данных из столбца `purpose` сформирует новый столбец `purpose_category`, в который войдут следующие категории:**\n",
    "\n",
    "- `'операции с автомобилем'`,\n",
    "- `'операции с недвижимостью'`,\n",
    "- `'проведение свадьбы'`,\n",
    "- `'получение образования'`.\n",
    "\n",
    "Например, если в столбце `purpose` находится подстрока `'на покупку автомобиля'`, то в столбце `purpose_category` должна появиться строка `'операции с автомобилем'`."
   ]
  },
  {
   "cell_type": "code",
   "execution_count": 23,
   "id": "4fa349d3",
   "metadata": {},
   "outputs": [],
   "source": [
    "def categorize_purpose(row):\n",
    "    try:\n",
    "        if 'автом' in row:\n",
    "            return 'операции с автомобилем'\n",
    "        elif 'жил' in row or 'недвиж' in row:\n",
    "            return 'операции с недвижимостью'\n",
    "        elif 'свад' in row:\n",
    "            return 'проведение свадьбы'\n",
    "        elif 'образов' in row:\n",
    "            return 'получение образования'\n",
    "    except:\n",
    "        return 'нет категории'"
   ]
  },
  {
   "cell_type": "code",
   "execution_count": 24,
   "id": "0a69dff9",
   "metadata": {},
   "outputs": [],
   "source": [
    "data['purpose_category'] = data['purpose'].apply(categorize_purpose)"
   ]
  },
  {
   "cell_type": "markdown",
   "id": "d61e72ce",
   "metadata": {},
   "source": [
    "Подведём предварительный итог по произведёнными действиям на этапе предобработки данных. На втором этапе мы постарались подготовить данные для последующего анализа. Для этого были предприняты следующие действия:  \n",
    "* Обнаружены и устранены пропуски в двух столбцах наиболее подходящими для этого данными;\n",
    "* Обнаружены аномальные значения, влияние которых на данные были учтены и при необходимости удалены из датасета;\n",
    "* Добававлены два столбца с категориальными значениями.  \n",
    "\n",
    "Теперь перейдём к исследовательскому анализу данных."
   ]
  },
  {
   "cell_type": "markdown",
   "id": "7335a9f4",
   "metadata": {},
   "source": [
    "## Исследовательский анализ данных"
   ]
  },
  {
   "cell_type": "markdown",
   "id": "36ccc1d7",
   "metadata": {},
   "source": [
    "Теперь рассмотрим данные более подробно для ответа на центральыне вопросы, первый из которых:  \n",
    "Есть ли зависимость между количеством детей и возвратом кредита в срок?  \n",
    "Для ответа на вопрос нам нужно сгруппировать данные по клиентам, имеющих детей, и сопоставить их с наличии у них задолженностей по кредиту. При этом выведем дополнительно численность клиентов в каждой категории, сколько из них имеют задолженность, а также показатель среднего значения."
   ]
  },
  {
   "cell_type": "code",
   "execution_count": 25,
   "id": "bba0dfb4",
   "metadata": {},
   "outputs": [
    {
     "data": {
      "text/html": [
       "<div>\n",
       "<style scoped>\n",
       "    .dataframe tbody tr th:only-of-type {\n",
       "        vertical-align: middle;\n",
       "    }\n",
       "\n",
       "    .dataframe tbody tr th {\n",
       "        vertical-align: top;\n",
       "    }\n",
       "\n",
       "    .dataframe thead tr th {\n",
       "        text-align: left;\n",
       "    }\n",
       "\n",
       "    .dataframe thead tr:last-of-type th {\n",
       "        text-align: right;\n",
       "    }\n",
       "</style>\n",
       "<table border=\"1\" class=\"dataframe\">\n",
       "  <thead>\n",
       "    <tr>\n",
       "      <th></th>\n",
       "      <th colspan=\"3\" halign=\"left\">debt</th>\n",
       "    </tr>\n",
       "    <tr>\n",
       "      <th></th>\n",
       "      <th>count</th>\n",
       "      <th>sum</th>\n",
       "      <th>mean</th>\n",
       "    </tr>\n",
       "    <tr>\n",
       "      <th>children</th>\n",
       "      <th></th>\n",
       "      <th></th>\n",
       "      <th></th>\n",
       "    </tr>\n",
       "  </thead>\n",
       "  <tbody>\n",
       "    <tr>\n",
       "      <th>0</th>\n",
       "      <td>14091</td>\n",
       "      <td>1063</td>\n",
       "      <td>0.075438</td>\n",
       "    </tr>\n",
       "    <tr>\n",
       "      <th>1</th>\n",
       "      <td>4808</td>\n",
       "      <td>444</td>\n",
       "      <td>0.092346</td>\n",
       "    </tr>\n",
       "    <tr>\n",
       "      <th>2</th>\n",
       "      <td>2052</td>\n",
       "      <td>194</td>\n",
       "      <td>0.094542</td>\n",
       "    </tr>\n",
       "    <tr>\n",
       "      <th>3</th>\n",
       "      <td>330</td>\n",
       "      <td>27</td>\n",
       "      <td>0.081818</td>\n",
       "    </tr>\n",
       "    <tr>\n",
       "      <th>4</th>\n",
       "      <td>41</td>\n",
       "      <td>4</td>\n",
       "      <td>0.097561</td>\n",
       "    </tr>\n",
       "    <tr>\n",
       "      <th>5</th>\n",
       "      <td>9</td>\n",
       "      <td>0</td>\n",
       "      <td>0.000000</td>\n",
       "    </tr>\n",
       "  </tbody>\n",
       "</table>\n",
       "</div>"
      ],
      "text/plain": [
       "           debt                \n",
       "          count   sum      mean\n",
       "children                       \n",
       "0         14091  1063  0.075438\n",
       "1          4808   444  0.092346\n",
       "2          2052   194  0.094542\n",
       "3           330    27  0.081818\n",
       "4            41     4  0.097561\n",
       "5             9     0  0.000000"
      ]
     },
     "execution_count": 25,
     "metadata": {},
     "output_type": "execute_result"
    }
   ],
   "source": [
    "debts_with_children = data.groupby('children').agg({'debt':['count', 'sum', 'mean']})\n",
    "debts_with_children"
   ]
  },
  {
   "cell_type": "markdown",
   "id": "76f5f3f3",
   "metadata": {},
   "source": [
    "**Вывод:** \n",
    "По полученным данным можно сделать вывод, что практически не имеет значение сколько у клиента детей - случаи задержки платежей одинаково вероятны. Если же у клиента вовсе нет детей, то более вероятно, что он будет производить выплаты согласно установленному сроку. Начиная с клиентов, имеющих трёх и детей и больше, сложно делать уверенные выводы по причине малой выборки обсуждаемых групп, требуются дополнительные исследования с расширением выборки.  \n",
    "\n",
    "Второй вопрос: Есть ли зависимость между семейным положением и возвратом кредита в срок?  \n",
    "Для выяснения зависимости между семейным положение и возвратом кредита в срок повторим грипировку, на этот раз \n",
    "по столбцу семейного статуса и сравним его с наличием задолженности по кредиту."
   ]
  },
  {
   "cell_type": "code",
   "execution_count": 26,
   "id": "3d0ef237",
   "metadata": {},
   "outputs": [
    {
     "data": {
      "text/html": [
       "<div>\n",
       "<style scoped>\n",
       "    .dataframe tbody tr th:only-of-type {\n",
       "        vertical-align: middle;\n",
       "    }\n",
       "\n",
       "    .dataframe tbody tr th {\n",
       "        vertical-align: top;\n",
       "    }\n",
       "\n",
       "    .dataframe thead tr th {\n",
       "        text-align: left;\n",
       "    }\n",
       "\n",
       "    .dataframe thead tr:last-of-type th {\n",
       "        text-align: right;\n",
       "    }\n",
       "</style>\n",
       "<table border=\"1\" class=\"dataframe\">\n",
       "  <thead>\n",
       "    <tr>\n",
       "      <th></th>\n",
       "      <th colspan=\"3\" halign=\"left\">debt</th>\n",
       "    </tr>\n",
       "    <tr>\n",
       "      <th></th>\n",
       "      <th>count</th>\n",
       "      <th>sum</th>\n",
       "      <th>mean</th>\n",
       "    </tr>\n",
       "    <tr>\n",
       "      <th>family_status</th>\n",
       "      <th></th>\n",
       "      <th></th>\n",
       "      <th></th>\n",
       "    </tr>\n",
       "  </thead>\n",
       "  <tbody>\n",
       "    <tr>\n",
       "      <th>Не женат / не замужем</th>\n",
       "      <td>2796</td>\n",
       "      <td>273</td>\n",
       "      <td>0.097639</td>\n",
       "    </tr>\n",
       "    <tr>\n",
       "      <th>в разводе</th>\n",
       "      <td>1189</td>\n",
       "      <td>84</td>\n",
       "      <td>0.070648</td>\n",
       "    </tr>\n",
       "    <tr>\n",
       "      <th>вдовец / вдова</th>\n",
       "      <td>951</td>\n",
       "      <td>63</td>\n",
       "      <td>0.066246</td>\n",
       "    </tr>\n",
       "    <tr>\n",
       "      <th>гражданский брак</th>\n",
       "      <td>4134</td>\n",
       "      <td>385</td>\n",
       "      <td>0.093130</td>\n",
       "    </tr>\n",
       "    <tr>\n",
       "      <th>женат / замужем</th>\n",
       "      <td>12261</td>\n",
       "      <td>927</td>\n",
       "      <td>0.075606</td>\n",
       "    </tr>\n",
       "  </tbody>\n",
       "</table>\n",
       "</div>"
      ],
      "text/plain": [
       "                        debt               \n",
       "                       count  sum      mean\n",
       "family_status                              \n",
       "Не женат / не замужем   2796  273  0.097639\n",
       "в разводе               1189   84  0.070648\n",
       "вдовец / вдова           951   63  0.066246\n",
       "гражданский брак        4134  385  0.093130\n",
       "женат / замужем        12261  927  0.075606"
      ]
     },
     "execution_count": 26,
     "metadata": {},
     "output_type": "execute_result"
    }
   ],
   "source": [
    "debts_with_family = data.groupby('family_status').agg({'debt':['count', 'sum', 'mean']})\n",
    "debts_with_family"
   ]
  },
  {
   "cell_type": "markdown",
   "id": "1b5f3aaf",
   "metadata": {},
   "source": [
    "**Вывод:** наличие семейного статуса клиента, пусть даже и бывшего, повышает его надежность погашения выплат без задолженностей. Клиенты же, никогда не бывшие в браке или состоящие в неофициальных отношениях, вероятнее будут допускать задолженности в выплатах по сравнению с прочими категориями клиентов.  \n",
    "*Комментарии:*\n",
    "Можно предположить, что семейный статус косвенно влияет на увеличение числа задолженностей. Однако более значимую роль, вероятно, играет другой фактор, который не был учтён в данном исследовании, а именно возраст клиентов.\n",
    "Большинство людей вступают в брак в период от 20 до 30 лет. Для того чтобы получить высокооплачиваемую работу, обычно требуется опыт (включая полезные знакомства) и соответствующее образование. Это достигается, как правило, со временем.  \n",
    "Следующий этап в отношениях, к которому приходят молодые люди, — это гражданский брак. Фактически, это те же неженатые/незамужние люди, но теперь они пробуют себя в новой роли — ответственных не только за себя. Это может указывать на некоторое снижение вероятности того, что такие клиенты допустят задолженность.\n",
    "Аналогичная тенденция увеличения надёжности клиентов прослеживается и в последующие периоды взросления людей (юность — отношения — брак — развод — вдовство).  \n",
    "\n",
    "Третий вопрос: Есть ли зависимость между уровнем дохода и возвратом кредита в срок?  \n",
    "Сгруппируем данные по категориям общего дохода к показателю наличия задолженности."
   ]
  },
  {
   "cell_type": "code",
   "execution_count": 27,
   "id": "2838fdee",
   "metadata": {},
   "outputs": [
    {
     "data": {
      "text/html": [
       "<div>\n",
       "<style scoped>\n",
       "    .dataframe tbody tr th:only-of-type {\n",
       "        vertical-align: middle;\n",
       "    }\n",
       "\n",
       "    .dataframe tbody tr th {\n",
       "        vertical-align: top;\n",
       "    }\n",
       "\n",
       "    .dataframe thead tr th {\n",
       "        text-align: left;\n",
       "    }\n",
       "\n",
       "    .dataframe thead tr:last-of-type th {\n",
       "        text-align: right;\n",
       "    }\n",
       "</style>\n",
       "<table border=\"1\" class=\"dataframe\">\n",
       "  <thead>\n",
       "    <tr>\n",
       "      <th></th>\n",
       "      <th colspan=\"3\" halign=\"left\">debt</th>\n",
       "    </tr>\n",
       "    <tr>\n",
       "      <th></th>\n",
       "      <th>count</th>\n",
       "      <th>sum</th>\n",
       "      <th>mean</th>\n",
       "    </tr>\n",
       "    <tr>\n",
       "      <th>total_income_category</th>\n",
       "      <th></th>\n",
       "      <th></th>\n",
       "      <th></th>\n",
       "    </tr>\n",
       "  </thead>\n",
       "  <tbody>\n",
       "    <tr>\n",
       "      <th>A</th>\n",
       "      <td>25</td>\n",
       "      <td>2</td>\n",
       "      <td>0.080000</td>\n",
       "    </tr>\n",
       "    <tr>\n",
       "      <th>B</th>\n",
       "      <td>5014</td>\n",
       "      <td>354</td>\n",
       "      <td>0.070602</td>\n",
       "    </tr>\n",
       "    <tr>\n",
       "      <th>C</th>\n",
       "      <td>15921</td>\n",
       "      <td>1353</td>\n",
       "      <td>0.084982</td>\n",
       "    </tr>\n",
       "    <tr>\n",
       "      <th>D</th>\n",
       "      <td>349</td>\n",
       "      <td>21</td>\n",
       "      <td>0.060172</td>\n",
       "    </tr>\n",
       "    <tr>\n",
       "      <th>E</th>\n",
       "      <td>22</td>\n",
       "      <td>2</td>\n",
       "      <td>0.090909</td>\n",
       "    </tr>\n",
       "  </tbody>\n",
       "</table>\n",
       "</div>"
      ],
      "text/plain": [
       "                        debt                \n",
       "                       count   sum      mean\n",
       "total_income_category                       \n",
       "A                         25     2  0.080000\n",
       "B                       5014   354  0.070602\n",
       "C                      15921  1353  0.084982\n",
       "D                        349    21  0.060172\n",
       "E                         22     2  0.090909"
      ]
     },
     "execution_count": 27,
     "metadata": {},
     "output_type": "execute_result"
    }
   ],
   "source": [
    "debts_with_income = data.groupby('total_income_category').agg({'debt':['count', 'sum', 'mean']})\n",
    "debts_with_income"
   ]
  },
  {
   "cell_type": "markdown",
   "id": "bae23c83",
   "metadata": {},
   "source": [
    "**Вывод:** исходя из выявленных закономерностей по полученным данным можно утверждать, что уровень дохода оказывает некоторое влияние на наличие долгов у клиентов банка. Наиболее часто можно столкнуться с просроченными платежами, работая с клиентами с низким уровнем дохода. Однако данная категория является также и менее представленной в этом исследовании. Примерно тот же недостаток можно наблюдать в отношении клиентов, имеющих наиболее высокий уровень дохода. Клиенты, имеющие средний показатель доходов, чаще  допускают задолженности, чем имеющие умеренно-высокий доход. Вместе с тем, клиенты со средним уровнем доходов составляют собой абсолютное большинство из представленных здесь.  \n",
    "*Комментарии:* Клиенты со средним уровнем дохода представлены в исследовании наиболее полно. Можно выделить два основных момента, связанных с этой группой:  \n",
    "1. Люди со средним уровнем дохода чаще берут кредиты.  \n",
    "2. Однако они также чаще имеют задолженности по кредитам.  \n",
    "\n",
    "Из-за малого числа малообеспеченных клиентов в исследовании следует воздержаться от окончательных выводов.  \n",
    "Кажется, клиенты со средним уровнем дохода чаще обращаются к кредитам, потому что не могут позволить себе единовременные крупные покупки. Однако из-за непредсказуемых осложнений или трудностей в управлении личными финансами они могут пропустить условленный срок по выплатам. Клиенты с умеренно-высокими доходами обращаются к кредитам реже. Вероятно, они делают это только в случае планирования особо крупных покупок с планом досрочного более выгодного погашения. Таким образом, мы видим, что большинство клиентов банков, оформляющих кредиты, относятся к средней категории уровня доходов. Однако именно они чаще всего имеют долги по кредитам.  \n",
    "Решение, принимаемое в отношении этой категории клиентов, должно полностью учитывать соотношение пользы и вреда для бизнеса.  \n",
    "\n",
    "Четвёртый вопрос:  Как разные цели кредита влияют на его возврат в срок?  \n",
    "Для ответа на данный вопрос мы вновь сгруппируем данные, теперь уже по столбцу категорий целей и рассмотрим их данные по задолженностям."
   ]
  },
  {
   "cell_type": "code",
   "execution_count": 28,
   "id": "60157571",
   "metadata": {},
   "outputs": [
    {
     "data": {
      "text/html": [
       "<div>\n",
       "<style scoped>\n",
       "    .dataframe tbody tr th:only-of-type {\n",
       "        vertical-align: middle;\n",
       "    }\n",
       "\n",
       "    .dataframe tbody tr th {\n",
       "        vertical-align: top;\n",
       "    }\n",
       "\n",
       "    .dataframe thead tr th {\n",
       "        text-align: left;\n",
       "    }\n",
       "\n",
       "    .dataframe thead tr:last-of-type th {\n",
       "        text-align: right;\n",
       "    }\n",
       "</style>\n",
       "<table border=\"1\" class=\"dataframe\">\n",
       "  <thead>\n",
       "    <tr>\n",
       "      <th></th>\n",
       "      <th colspan=\"3\" halign=\"left\">debt</th>\n",
       "    </tr>\n",
       "    <tr>\n",
       "      <th></th>\n",
       "      <th>count</th>\n",
       "      <th>sum</th>\n",
       "      <th>mean</th>\n",
       "    </tr>\n",
       "    <tr>\n",
       "      <th>purpose_category</th>\n",
       "      <th></th>\n",
       "      <th></th>\n",
       "      <th></th>\n",
       "    </tr>\n",
       "  </thead>\n",
       "  <tbody>\n",
       "    <tr>\n",
       "      <th>операции с автомобилем</th>\n",
       "      <td>4279</td>\n",
       "      <td>400</td>\n",
       "      <td>0.093480</td>\n",
       "    </tr>\n",
       "    <tr>\n",
       "      <th>операции с недвижимостью</th>\n",
       "      <td>10751</td>\n",
       "      <td>780</td>\n",
       "      <td>0.072551</td>\n",
       "    </tr>\n",
       "    <tr>\n",
       "      <th>получение образования</th>\n",
       "      <td>3988</td>\n",
       "      <td>369</td>\n",
       "      <td>0.092528</td>\n",
       "    </tr>\n",
       "    <tr>\n",
       "      <th>проведение свадьбы</th>\n",
       "      <td>2313</td>\n",
       "      <td>183</td>\n",
       "      <td>0.079118</td>\n",
       "    </tr>\n",
       "  </tbody>\n",
       "</table>\n",
       "</div>"
      ],
      "text/plain": [
       "                           debt               \n",
       "                          count  sum      mean\n",
       "purpose_category                              \n",
       "операции с автомобилем     4279  400  0.093480\n",
       "операции с недвижимостью  10751  780  0.072551\n",
       "получение образования      3988  369  0.092528\n",
       "проведение свадьбы         2313  183  0.079118"
      ]
     },
     "execution_count": 28,
     "metadata": {},
     "output_type": "execute_result"
    }
   ],
   "source": [
    "debts_with_purpose = data.groupby('purpose_category').agg({'debt':['count', 'sum', 'mean']})\n",
    "debts_with_purpose"
   ]
  },
  {
   "cell_type": "markdown",
   "id": "15dd4f86",
   "metadata": {},
   "source": [
    "**Вывод:** цели, на которые клиенты берут кредит и при этом реже других допускают нарушение сроков оплаты, являются операции с недвижимостью и проведение свадьбы. В противоположность, наиболее часто клиенты имеют задолженности по платежам за кредит на операции с автомобилем и получение образования.  \n",
    "*Комментарии:* Наиболее рискованными с точки зрения возникновения задолженности являются цели, связанные с покупкой автомобиля и получением образования. Это объясняется динамикой и изменчивостью этих рынков. При покупке автомобиля и оплате обучения существует риск столкнуться с мошенниками, что может серьёзно повлиять на финансовое благополучие клиента.  \n",
    "Отличительной особенностью рынка недвижимости является возможность получения прибыли или снижения расходов при использовании объекта покупки. Прибыль от приобретения недвижимости можно получать, сдавая её в аренду, перепродавая после ремонта или другими менее очевидными способами. К покупке недвижимости обычно готовятся заранее, накапливая финансовые резервы и распределяя обязанности, что повышает ответственность в отношении условленных выплат. Свадьба также может окупиться в ближайшее время.  \n",
    "Для предотвращения возникновения проблем можно привлекать клиентов, которым требуются кредитные услуги для покупки недвижимости и организации свадеб. Этого можно достичь с помощью рекламы и разработки более выгодных условий для соответствующих категорий расходов. Также можно работать с категориями клиентов, которые чаще других допускают задолженности, внедряя дополнительные условия для заключения договоров, например, покупку автомобиля только у официальных дилеров или с составлением заключения о состоянии транспортного средства, проверку лицензии организации, предоставляющей услуги обучения, или составление перечня профессий, которые имеют наибольший шанс остаться востребованными, для которых предоставляются более лояльные условия.  \n",
    "\n",
    "Вопрос пятый: Приведите возможные причины появления пропусков в исходных данных.  \n",
    "*Ответ:* \n",
    "1. Ошибки при копировании или переносе данных могут быть связаны с человеческим фактором или техническими неполадками.  \n",
    "\n",
    "2. Ошибки могут возникать при переносе данных из одного формата в другой.  \n",
    "\n",
    "3. Ошибки в отчётах могут быть следствием небрежности или частой смены ответственных сотрудников.  \n",
    "\n",
    "Вопрос шестой: Объясните, почему заполнить пропуски медианным значением — лучшее решение для количественных переменных.  \n",
    "*Ответ:* Среднее значение не будет способствовать точности исследования, так как будет больше отклнонять показатели в сторону наиболее больших или наиболее малых значений. Медиана не отклоняет общую направленность данных, позволяя работать с ними, исключая возможные искажения.  \n",
    "\n",
    "Подведём предварительный вывод на этапе исследователького анализа данных. Нами были изучены данные и получены ответа на интересующие заказчика вопросы. При этом были даны соответствующие пояснения и умозаключения.  \n",
    "Теперь составим общий вывод по проведённому исследованию."
   ]
  },
  {
   "cell_type": "markdown",
   "id": "9b75d513",
   "metadata": {},
   "source": [
    "## Общий вывод"
   ]
  },
  {
   "cell_type": "markdown",
   "id": "4ac15286",
   "metadata": {},
   "source": [
    "В ходе исследования мы выявили некоторые аспекты формирования задолженностей. Мы проанализировали различные группы клиентов и искали закономерности изменения средних значений наличия задолженностей.  \n",
    "1) Сначала мы попытались понять, влияет ли наличие детей на увеличение числа задолженностей.  \n",
    "* Полученные данные подтверждают, что клиенты с детьми реже возвращают кредиты в срок. При этом не так важно, сколько у клиента детей — их показатели варьируются в пределах схожих значений. Среднее значение задолженности для клиентов с двумя детьми находится в диапазоне **0,092** и достигает максимального значения в **0,097** для клиентов с четырьмя детьми.  \n",
    "* Клиенты без детей показывают значительно меньшее значение — **0,075**. Поэтому они кажутся более надёжными в плане возврата долгов в установленный срок.  \n",
    "* Небольшая аномалия, которая наблюдается в расчётах по клиентам с пятью детьми, объясняется малой выборкой в этой категории клиентов.  \n",
    "\n",
    "\n",
    "2) На следующем этапе мы хотели выяснить, влияет ли семейный статус на риск возникновения долга у клиента.  \n",
    "* Исследование показало, что наиболее рискованными категориями клиентов, чаще других допускающими возникновение задолженностей, являются неженатые/незамужние клиенты **(0,097)** и те, кто состоит в гражданском браке **(0,093)**.  \n",
    "* С другой стороны, наиболее надёжными клиентами **(0,075)** являются женатые/замужние клиенты, которые также являются самыми многочисленными по общему числу **(12 261)**.  \n",
    "\n",
    "3) Далее было выяснено являются ли клиенты определённого уровня дохода более склонными к долгам, чем другие. \n",
    "* Наименьшую надежность показывают клиенты среднего уровня доходов **(0,084)**. Но, вместе с тем, данная категория имеет и наибольшее количество кредитов **(15 921)**, что почти в три раза превышает число кредитов даже более обеспеченных клиентов. \n",
    "* Наиболее надежными категориями клиентов можно считать имеющих умеренно-высокий **(0,07)** и умеренно-низкий доход **(0,06)**. * В виду малой выборки крайние категории малообеспеченных и высокообеспеченных учитывать нецелесообразно, требуются дополнительные исследования. \n",
    "\n",
    "4) Также было исследовано влияет ли определённая цель, на которую клиенты берут кредиты, на увеличение вероятности последующих долгов по выплатам. \n",
    "* Чаще задолженности возникают у клиентов, взявшие кредит на операции с автомобилем, показывающие максимальные **0,093** среднего показателя задолженности; а также получение образования с тем же показателем в **0,092**. При этом данные категории имеют схожее число оформленных кредитов **(4 279 и 3 988)** и являются средними значениями в данной выборке. \n",
    "* Наиболее популярной целью на оформление кредита являются операции с недвижимостью, также являясь и наиболее надежной в точки зрения возникновения задолженностей **(0,072)**. Проведение свадеб также весьма положительно влияет на снижение количества долгов **(0,079)**, но при этом является наименее популярной целью для оформления кредита **(2 313)**."
   ]
  }
 ],
 "metadata": {
  "kernelspec": {
   "display_name": "Python 3 (ipykernel)",
   "language": "python",
   "name": "python3"
  },
  "language_info": {
   "codemirror_mode": {
    "name": "ipython",
    "version": 3
   },
   "file_extension": ".py",
   "mimetype": "text/x-python",
   "name": "python",
   "nbconvert_exporter": "python",
   "pygments_lexer": "ipython3",
   "version": "3.11.3"
  }
 },
 "nbformat": 4,
 "nbformat_minor": 5
}
